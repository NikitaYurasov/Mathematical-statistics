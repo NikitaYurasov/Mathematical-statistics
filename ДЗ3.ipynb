{
 "cells": [
  {
   "cell_type": "code",
   "execution_count": 2,
   "metadata": {},
   "outputs": [],
   "source": [
    "import numpy as np\n",
    "import pandas as pd\n",
    "import matplotlib.pyplot as plt\n",
    "import scipy.special as sps"
   ]
  },
  {
   "cell_type": "markdown",
   "metadata": {},
   "source": [
    "# Распределение Пуассона\n",
    "## Выборочное среднее и выборочная дисперсия"
   ]
  },
  {
   "cell_type": "code",
   "execution_count": 60,
   "metadata": {},
   "outputs": [],
   "source": [
    "def random_poisson(mu, size=1):\n",
    "    '''\n",
    "    This fuction generates an array of random points which are distributed as Poisson.\n",
    "    mu - is a parameter of shape.\n",
    "    '''\n",
    "    poisson_array = np.zeros(size, dtype='f8')\n",
    "    for k in range(size):\n",
    "        a = np.exp(-mu)\n",
    "        b = 1\n",
    "        i = 0\n",
    "        u = np.random.uniform(0. , 1.)\n",
    "        b = b*u\n",
    "        while b>=a:\n",
    "            u = np.random.uniform(0., 1.)\n",
    "            b = b*u\n",
    "            i+=1\n",
    "        poisson_array[k] = i\n",
    "        \n",
    "    return poisson_array\n",
    "\n",
    "def sample_mean(variables):\n",
    "    n = variables.shape[0]\n",
    "    s = np.sum(variables)\n",
    "    s_m = s/n\n",
    "    return s_m\n",
    "\n",
    "def sample_variance(variables, samp_mean):\n",
    "    n = variables.shape[0]\n",
    "    variables = (variables - samp_mean)**2\n",
    "    s = np.sum(variables)\n",
    "    s_v = s/n\n",
    "    return s_v"
   ]
  },
  {
   "cell_type": "code",
   "execution_count": 42,
   "metadata": {},
   "outputs": [
    {
     "name": "stdout",
     "output_type": "stream",
     "text": [
      "[2. 1. 1. 3. 0.]\n",
      "[2. 1. 2. 3. 7. 2. 3. 1. 2. 0.]\n"
     ]
    }
   ],
   "source": [
    "np.random.seed(12345678) # пусть, по умолчанию стартовое значение генератора равно 12345678\n",
    "poisson_data_5 = random_poisson(2, 5)\n",
    "print(poisson_data_5)\n",
    "poisson_data_10 = random_poisson(2, 10)\n",
    "print(poisson_data_10)"
   ]
  },
  {
   "cell_type": "code",
   "execution_count": 70,
   "metadata": {},
   "outputs": [
    {
     "name": "stdout",
     "output_type": "stream",
     "text": [
      "С помощью двух функций:\n",
      "Выборочное среднее для выборки [2. 1. 1. 3. 0.] = 1.4\n",
      "Выборочное среднее для выборки [2. 1. 2. 3. 7. 2. 3. 1. 2. 0.] = 2.3\n",
      "Выборочная дисперсия для выборки [2. 1. 1. 3. 0.] = 1.04\n",
      "Выборочная дисперсия для выборки [2. 1. 2. 3. 7. 2. 3. 1. 2. 0.] = 3.21\n"
     ]
    }
   ],
   "source": [
    "# найдем выборочное среднее и выборочную дисперсию для двух выборок (самостоятельно)\n",
    "print('С помощью двух функций:')\n",
    "print('Выборочное среднее для выборки {} = {}'.format(poisson_data_5, sample_mean(poisson_data_5)))\n",
    "print('Выборочное среднее для выборки {} = {}'.format(poisson_data_10, sample_mean(poisson_data_10)))\n",
    "print('Выборочная дисперсия для выборки {} = {}'.format(poisson_data_5, sample_variance(poisson_data_5, sample_mean(poisson_data_5))))\n",
    "print('Выборочная дисперсия для выборки {} = {}'.format(poisson_data_10, sample_variance(poisson_data_10, sample_mean(poisson_data_10))))"
   ]
  },
  {
   "cell_type": "code",
   "execution_count": 44,
   "metadata": {},
   "outputs": [
    {
     "name": "stdout",
     "output_type": "stream",
     "text": [
      "Выборочное среднее для выборки [2. 1. 1. 3. 0.] = 1.4\n",
      "Выборочное среднее для выборки [2. 1. 2. 3. 7. 2. 3. 1. 2. 0.] = 2.3\n",
      "Выборочная дисперсия для выборки [2. 1. 1. 3. 0.] = 1.04\n",
      "Выборочная дисперсия для выборки [2. 1. 2. 3. 7. 2. 3. 1. 2. 0.] = 3.21\n"
     ]
    }
   ],
   "source": [
    "# в библиотеке numpy существует два метода mean&var, которые находят выборочное среднее и выборочную дисперсию\n",
    "print('Выборочное среднее для выборки {} = {}'.format(poisson_data_5, np.mean(poisson_data_5)))\n",
    "print('Выборочное среднее для выборки {} = {}'.format(poisson_data_10, np.mean(poisson_data_10)))\n",
    "print('Выборочная дисперсия для выборки {} = {}'.format(poisson_data_5, np.var(poisson_data_5)))\n",
    "print('Выборочная дисперсия для выборки {} = {}'.format(poisson_data_10, np.var(poisson_data_10)))"
   ]
  },
  {
   "cell_type": "markdown",
   "metadata": {},
   "source": [
    "## Оценка времени"
   ]
  },
  {
   "cell_type": "code",
   "execution_count": 52,
   "metadata": {},
   "outputs": [
    {
     "name": "stdout",
     "output_type": "stream",
     "text": [
      "463 ms ± 3.74 ms per loop (mean ± std. dev. of 7 runs, 1 loop each)\n"
     ]
    }
   ],
   "source": [
    "%%timeit\n",
    "sample_mean(random_poisson(2, 100000))"
   ]
  },
  {
   "cell_type": "code",
   "execution_count": 53,
   "metadata": {},
   "outputs": [
    {
     "name": "stdout",
     "output_type": "stream",
     "text": [
      "463 ms ± 4.39 ms per loop (mean ± std. dev. of 7 runs, 1 loop each)\n"
     ]
    }
   ],
   "source": [
    "%%timeit\n",
    "np.mean(random_poisson(2, 100000))"
   ]
  },
  {
   "cell_type": "code",
   "execution_count": 57,
   "metadata": {},
   "outputs": [],
   "source": [
    "mean = sample_mean(random_poisson(2, 100000))"
   ]
  },
  {
   "cell_type": "code",
   "execution_count": 58,
   "metadata": {},
   "outputs": [
    {
     "name": "stdout",
     "output_type": "stream",
     "text": [
      "466 ms ± 4.33 ms per loop (mean ± std. dev. of 7 runs, 1 loop each)\n"
     ]
    }
   ],
   "source": [
    "%%timeit\n",
    "sample_variance(random_poisson(2, 100000), mean)"
   ]
  },
  {
   "cell_type": "code",
   "execution_count": 59,
   "metadata": {},
   "outputs": [
    {
     "name": "stdout",
     "output_type": "stream",
     "text": [
      "467 ms ± 11.4 ms per loop (mean ± std. dev. of 7 runs, 1 loop each)\n"
     ]
    }
   ],
   "source": [
    "%%timeit\n",
    "np.var(random_poisson(2, 100000))"
   ]
  },
  {
   "cell_type": "markdown",
   "metadata": {},
   "source": [
    "# Распределение Эрланга\n",
    "## Выборочные среднее и дисперсия"
   ]
  },
  {
   "cell_type": "code",
   "execution_count": 63,
   "metadata": {},
   "outputs": [],
   "source": [
    "def random_erlang(k, theta, size=1):\n",
    "    '''\n",
    "    This fuction genegates <size> points of Erlang distribution.\n",
    "    k&theta - are parametrs of Erlang distribution.\n",
    "    Return value: array with generated points.\n",
    "    '''\n",
    "    Erlang_Points = np.zeros(size)\n",
    "    Exp_Points = np.zeros(k)\n",
    "    for i in range(size):\n",
    "        for j in range(k):\n",
    "            eps = np.random.uniform()\n",
    "            Exp_Points[j] = -1/theta*np.log(eps)\n",
    "        S = np.sum(Exp_Points)\n",
    "        Erlang_Points[i] = S\n",
    "    Exp_Points = np.sort(Exp_Points)\n",
    "    return Erlang_Points"
   ]
  },
  {
   "cell_type": "code",
   "execution_count": 65,
   "metadata": {},
   "outputs": [],
   "source": [
    "erlang_data_5 = random_erlang(2, 0.2, 5)\n",
    "erlang_data_10 = random_erlang(2, 0.2, 10)"
   ]
  },
  {
   "cell_type": "code",
   "execution_count": 67,
   "metadata": {},
   "outputs": [
    {
     "name": "stdout",
     "output_type": "stream",
     "text": [
      "Выборочное среднее для выборки [ 9.43737905 11.94755981  1.6335522  11.63186523  1.95757948] = 7.321587156076815\n",
      "Выборочное среднее для выборки [ 8.30297653 17.47684737  5.71182291  2.67860603 19.66877258  7.92660288\n",
      "  5.52776384  8.11891813  9.22277337 16.35132395] = 10.098640758672008\n",
      "Выборочная дисперсия для выборки [ 9.43737905 11.94755981  1.6335522  11.63186523  1.95757948] = 21.11620307310885\n",
      "Выборочная дисперсия для выборки [ 8.30297653 17.47684737  5.71182291  2.67860603 19.66877258  7.92660288\n",
      "  5.52776384  8.11891813  9.22277337 16.35132395] = 29.294400894861564\n"
     ]
    }
   ],
   "source": [
    "print('Выборочное среднее для выборки {} = {}'.format(erlang_data_5, sample_mean(erlang_data_5)))\n",
    "print('Выборочное среднее для выборки {} = {}'.format(erlang_data_10, sample_mean(erlang_data_10)))\n",
    "print('Выборочная дисперсия для выборки {} = {}'.format(erlang_data_5, sample_variance(erlang_data_5, sample_mean(erlang_data_5))))\n",
    "print('Выборочная дисперсия для выборки {} = {}'.format(erlang_data_10, sample_variance(erlang_data_10, sample_mean(erlang_data_10))))"
   ]
  },
  {
   "cell_type": "code",
   "execution_count": 68,
   "metadata": {},
   "outputs": [
    {
     "name": "stdout",
     "output_type": "stream",
     "text": [
      "Выборочное среднее для выборки [ 9.43737905 11.94755981  1.6335522  11.63186523  1.95757948] = 7.321587156076815\n",
      "Выборочное среднее для выборки [ 8.30297653 17.47684737  5.71182291  2.67860603 19.66877258  7.92660288\n",
      "  5.52776384  8.11891813  9.22277337 16.35132395] = 10.098640758672008\n",
      "Выборочная дисперсия для выборки [ 9.43737905 11.94755981  1.6335522  11.63186523  1.95757948] = 21.11620307310885\n",
      "Выборочная дисперсия для выборки [ 8.30297653 17.47684737  5.71182291  2.67860603 19.66877258  7.92660288\n",
      "  5.52776384  8.11891813  9.22277337 16.35132395] = 29.294400894861564\n"
     ]
    }
   ],
   "source": [
    "print('Выборочное среднее для выборки {} = {}'.format(erlang_data_5, np.mean(erlang_data_5)))\n",
    "print('Выборочное среднее для выборки {} = {}'.format(erlang_data_10, np.mean(erlang_data_10)))\n",
    "print('Выборочная дисперсия для выборки {} = {}'.format(erlang_data_5, np.var(erlang_data_5)))\n",
    "print('Выборочная дисперсия для выборки {} = {}'.format(erlang_data_10, np.var(erlang_data_10)))"
   ]
  },
  {
   "cell_type": "code",
   "execution_count": null,
   "metadata": {},
   "outputs": [],
   "source": []
  },
  {
   "cell_type": "code",
   "execution_count": null,
   "metadata": {},
   "outputs": [],
   "source": []
  },
  {
   "cell_type": "code",
   "execution_count": null,
   "metadata": {},
   "outputs": [],
   "source": []
  },
  {
   "cell_type": "code",
   "execution_count": 75,
   "metadata": {},
   "outputs": [
    {
     "data": {
      "text/plain": [
       "-0.015287653946815586"
      ]
     },
     "execution_count": 75,
     "metadata": {},
     "output_type": "execute_result"
    }
   ],
   "source": [
    "(((-0.80320/52-0.81740)/52-0.80340)/52-0.77920)/52"
   ]
  },
  {
   "cell_type": "code",
   "execution_count": null,
   "metadata": {},
   "outputs": [],
   "source": []
  }
 ],
 "metadata": {
  "kernelspec": {
   "display_name": "Python 3",
   "language": "python",
   "name": "python3"
  },
  "language_info": {
   "codemirror_mode": {
    "name": "ipython",
    "version": 3
   },
   "file_extension": ".py",
   "mimetype": "text/x-python",
   "name": "python",
   "nbconvert_exporter": "python",
   "pygments_lexer": "ipython3",
   "version": "3.7.2"
  }
 },
 "nbformat": 4,
 "nbformat_minor": 2
}
