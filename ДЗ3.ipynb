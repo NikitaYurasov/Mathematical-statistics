{
 "cells": [
  {
   "cell_type": "code",
   "execution_count": 1,
   "metadata": {},
   "outputs": [],
   "source": [
    "import numpy as np\n",
    "import pandas as pd\n",
    "import matplotlib.pyplot as plt\n",
    "import scipy.special as sps"
   ]
  },
  {
   "cell_type": "markdown",
   "metadata": {},
   "source": [
    "# Распределение Пуассона\n",
    "## Выборочное среднее и выборочная дисперсия"
   ]
  },
  {
   "cell_type": "code",
   "execution_count": 2,
   "metadata": {},
   "outputs": [],
   "source": [
    "def PoissonDistribution(mu, x):\n",
    "    '''\n",
    "    This fuction returns an array of Poisson destribution in the points of \"x\" array.\n",
    "    mu - is a paramter > 0\n",
    "    x - array of real numbers (optional: np.array(..., dtype=float32))\n",
    "    '''\n",
    "\n",
    "    X = np.zeros_like(x)\n",
    "    for i in range(X.shape[0]):\n",
    "        X[i] = (mu**x[i])/np.math.factorial(int(x[i]))*np.exp(-mu)\n",
    "    return X\n",
    "\n",
    "def random_poisson(mu, size=1):\n",
    "    '''\n",
    "    This fuction generates an array of random points which are distributed as Poisson.\n",
    "    mu - is a parameter of shape.\n",
    "    '''\n",
    "    poisson_array = np.zeros(size, dtype='f8')\n",
    "    for k in range(size):\n",
    "        a = np.exp(-mu)\n",
    "        b = 1\n",
    "        i = 0\n",
    "        u = np.random.uniform(0. , 1.)\n",
    "        b = b*u\n",
    "        while b>=a:\n",
    "            u = np.random.uniform(0., 1.)\n",
    "            b = b*u\n",
    "            i+=1\n",
    "        poisson_array[k] = i\n",
    "        \n",
    "    return poisson_array\n",
    "\n",
    "def sample_mean(variables):\n",
    "    n = variables.shape[0]\n",
    "    s = np.sum(variables)\n",
    "    s_m = s/n\n",
    "    return s_m\n",
    "\n",
    "def sample_variance(variables, samp_mean):\n",
    "    n = variables.shape[0]\n",
    "    variables = (variables - samp_mean)**2\n",
    "    s = np.sum(variables)\n",
    "    s_v = s/n\n",
    "    return s_v"
   ]
  },
  {
   "cell_type": "code",
   "execution_count": 3,
   "metadata": {},
   "outputs": [
    {
     "name": "stdout",
     "output_type": "stream",
     "text": [
      "[2. 1. 1. 3. 0.]\n",
      "[2. 1. 2. 3. 7. 2. 3. 1. 2. 0.]\n"
     ]
    }
   ],
   "source": [
    "np.random.seed(12345678) # пусть, по умолчанию стартовое значение генератора равно 12345678\n",
    "poisson_data_5 = random_poisson(2, 5)\n",
    "print(poisson_data_5)\n",
    "poisson_data_10 = random_poisson(2, 10)\n",
    "print(poisson_data_10)"
   ]
  },
  {
   "cell_type": "code",
   "execution_count": 4,
   "metadata": {},
   "outputs": [
    {
     "name": "stdout",
     "output_type": "stream",
     "text": [
      "С помощью двух функций:\n",
      "Выборочное среднее для выборки [2. 1. 1. 3. 0.] = 1.4\n",
      "Выборочное среднее для выборки [2. 1. 2. 3. 7. 2. 3. 1. 2. 0.] = 2.3\n",
      "Выборочная дисперсия для выборки [2. 1. 1. 3. 0.] = 1.04\n",
      "Выборочная дисперсия для выборки [2. 1. 2. 3. 7. 2. 3. 1. 2. 0.] = 3.21\n"
     ]
    }
   ],
   "source": [
    "# найдем выборочное среднее и выборочную дисперсию для двух выборок (самостоятельно)\n",
    "print('С помощью двух функций:')\n",
    "print('Выборочное среднее для выборки {} = {}'.format(poisson_data_5, sample_mean(poisson_data_5)))\n",
    "print('Выборочное среднее для выборки {} = {}'.format(poisson_data_10, sample_mean(poisson_data_10)))\n",
    "print('Выборочная дисперсия для выборки {} = {}'.format(poisson_data_5, sample_variance(poisson_data_5, sample_mean(poisson_data_5))))\n",
    "print('Выборочная дисперсия для выборки {} = {}'.format(poisson_data_10, sample_variance(poisson_data_10, sample_mean(poisson_data_10))))"
   ]
  },
  {
   "cell_type": "code",
   "execution_count": 5,
   "metadata": {},
   "outputs": [
    {
     "name": "stdout",
     "output_type": "stream",
     "text": [
      "Выборочное среднее для выборки [2. 1. 1. 3. 0.] = 1.4\n",
      "Выборочное среднее для выборки [2. 1. 2. 3. 7. 2. 3. 1. 2. 0.] = 2.3\n",
      "Выборочная дисперсия для выборки [2. 1. 1. 3. 0.] = 1.04\n",
      "Выборочная дисперсия для выборки [2. 1. 2. 3. 7. 2. 3. 1. 2. 0.] = 3.21\n"
     ]
    }
   ],
   "source": [
    "# в библиотеке numpy существует два метода mean&var, которые находят выборочное среднее и выборочную дисперсию\n",
    "print('Выборочное среднее для выборки {} = {}'.format(poisson_data_5, np.mean(poisson_data_5)))\n",
    "print('Выборочное среднее для выборки {} = {}'.format(poisson_data_10, np.mean(poisson_data_10)))\n",
    "print('Выборочная дисперсия для выборки {} = {}'.format(poisson_data_5, np.var(poisson_data_5)))\n",
    "print('Выборочная дисперсия для выборки {} = {}'.format(poisson_data_10, np.var(poisson_data_10)))"
   ]
  },
  {
   "cell_type": "markdown",
   "metadata": {},
   "source": [
    "## Оценка времени"
   ]
  },
  {
   "cell_type": "code",
   "execution_count": 6,
   "metadata": {},
   "outputs": [
    {
     "name": "stdout",
     "output_type": "stream",
     "text": [
      "681 ms ± 143 ms per loop (mean ± std. dev. of 7 runs, 1 loop each)\n"
     ]
    }
   ],
   "source": [
    "%%timeit\n",
    "sample_mean(random_poisson(2, 100000))"
   ]
  },
  {
   "cell_type": "code",
   "execution_count": 7,
   "metadata": {},
   "outputs": [
    {
     "name": "stdout",
     "output_type": "stream",
     "text": [
      "577 ms ± 58.8 ms per loop (mean ± std. dev. of 7 runs, 1 loop each)\n"
     ]
    }
   ],
   "source": [
    "%%timeit\n",
    "np.mean(random_poisson(2, 100000))"
   ]
  },
  {
   "cell_type": "code",
   "execution_count": 8,
   "metadata": {},
   "outputs": [],
   "source": [
    "mean = sample_mean(random_poisson(2, 100000))"
   ]
  },
  {
   "cell_type": "code",
   "execution_count": 9,
   "metadata": {},
   "outputs": [
    {
     "name": "stdout",
     "output_type": "stream",
     "text": [
      "566 ms ± 55.4 ms per loop (mean ± std. dev. of 7 runs, 1 loop each)\n"
     ]
    }
   ],
   "source": [
    "%%timeit\n",
    "sample_variance(random_poisson(2, 100000), mean)"
   ]
  },
  {
   "cell_type": "code",
   "execution_count": 10,
   "metadata": {},
   "outputs": [
    {
     "name": "stdout",
     "output_type": "stream",
     "text": [
      "568 ms ± 27.9 ms per loop (mean ± std. dev. of 7 runs, 1 loop each)\n"
     ]
    }
   ],
   "source": [
    "%%timeit\n",
    "np.var(random_poisson(2, 100000))"
   ]
  },
  {
   "cell_type": "markdown",
   "metadata": {},
   "source": [
    "## Ставки на спорт"
   ]
  },
  {
   "cell_type": "code",
   "execution_count": 11,
   "metadata": {},
   "outputs": [],
   "source": [
    "import pandas as pd"
   ]
  },
  {
   "cell_type": "code",
   "execution_count": 62,
   "metadata": {},
   "outputs": [
    {
     "name": "stdout",
     "output_type": "stream",
     "text": [
      "(2.25, 3.75, 3.2) Watford West Ham\n"
     ]
    }
   ],
   "source": [
    "# выберем матч, который хотелось бы предугадать (0-379)\n",
    "num_match = 379\n",
    "stats = pd.read_csv('Football_stats/PL1819.csv', sep=',')\n",
    "real_bets = (stats.iloc[num_match]['B365H'], stats.iloc[num_match]['B365D'], stats.iloc[num_match]['B365A'])\n",
    "Home_Team = stats.iloc[num_match]['HomeTeam']\n",
    "Away_Team = stats.iloc[num_match]['AwayTeam']\n",
    "stats = stats.drop(stats.columns[range(10, 62)], axis=1)\n",
    "print(real_bets, Home_Team, Away_Team)"
   ]
  },
  {
   "cell_type": "code",
   "execution_count": 63,
   "metadata": {},
   "outputs": [
    {
     "data": {
      "text/plain": [
       "[<matplotlib.lines.Line2D at 0x117cbc2b0>]"
      ]
     },
     "execution_count": 63,
     "metadata": {},
     "output_type": "execute_result"
    },
    {
     "data": {
      "image/png": "[encoded data removed]",
      "text/plain": [
       "<Figure size 432x288 with 1 Axes>"
      ]
     },
     "metadata": {
      "needs_background": "light"
     },
     "output_type": "display_data"
    }
   ],
   "source": [
    "# проверка распределения\n",
    "g = {}\n",
    "for i in range(380):\n",
    "    s = stats.loc[i]['FTHG']+stats.loc[i]['FTAG']\n",
    "    if s not in g:\n",
    "        g[s] = 0\n",
    "    g[s]+=1\n",
    "q = sorted(g.items(), key=lambda x: x[0])\n",
    "X = np.zeros(len(q))\n",
    "Y = np.zeros(len(q))\n",
    "for i in range(len(q)):\n",
    "    X[i] = q[i][0]\n",
    "    Y[i] = q[i][1]/380\n",
    "plt.plot(X,Y);\n",
    "plt.grid();\n",
    "plt.plot(np.linspace(0,8,9), PoissonDistribution(2.5, np.linspace(0,8,9)))"
   ]
  },
  {
   "cell_type": "code",
   "execution_count": 64,
   "metadata": {},
   "outputs": [
    {
     "data": {
      "text/html": [
       "<div>\n",
       "<style scoped>\n",
       "    .dataframe tbody tr th:only-of-type {\n",
       "        vertical-align: middle;\n",
       "    }\n",
       "\n",
       "    .dataframe tbody tr th {\n",
       "        vertical-align: top;\n",
       "    }\n",
       "\n",
       "    .dataframe thead th {\n",
       "        text-align: right;\n",
       "    }\n",
       "</style>\n",
       "<table border=\"1\" class=\"dataframe\">\n",
       "  <thead>\n",
       "    <tr style=\"text-align: right;\">\n",
       "      <th></th>\n",
       "      <th>TotIn</th>\n",
       "      <th>TotOut</th>\n",
       "      <th>InHome</th>\n",
       "      <th>InAway</th>\n",
       "      <th>OutHome</th>\n",
       "      <th>OutAway</th>\n",
       "      <th>WMeanInHome</th>\n",
       "      <th>WMeanInAway</th>\n",
       "      <th>WMeanOutHome</th>\n",
       "      <th>WMeanOutAway</th>\n",
       "    </tr>\n",
       "  </thead>\n",
       "  <tbody>\n",
       "    <tr>\n",
       "      <td>Liverpool</td>\n",
       "      <td>89.0</td>\n",
       "      <td>22.0</td>\n",
       "      <td>55.0</td>\n",
       "      <td>34.0</td>\n",
       "      <td>10.0</td>\n",
       "      <td>12.0</td>\n",
       "      <td>1.845638</td>\n",
       "      <td>1.428571</td>\n",
       "      <td>0.420168</td>\n",
       "      <td>0.402685</td>\n",
       "    </tr>\n",
       "    <tr>\n",
       "      <td>Bournemouth</td>\n",
       "      <td>56.0</td>\n",
       "      <td>70.0</td>\n",
       "      <td>30.0</td>\n",
       "      <td>26.0</td>\n",
       "      <td>25.0</td>\n",
       "      <td>45.0</td>\n",
       "      <td>1.006711</td>\n",
       "      <td>1.092437</td>\n",
       "      <td>1.050420</td>\n",
       "      <td>1.510067</td>\n",
       "    </tr>\n",
       "    <tr>\n",
       "      <td>Huddersfield</td>\n",
       "      <td>22.0</td>\n",
       "      <td>76.0</td>\n",
       "      <td>10.0</td>\n",
       "      <td>12.0</td>\n",
       "      <td>31.0</td>\n",
       "      <td>45.0</td>\n",
       "      <td>0.335570</td>\n",
       "      <td>0.504202</td>\n",
       "      <td>1.302521</td>\n",
       "      <td>1.510067</td>\n",
       "    </tr>\n",
       "    <tr>\n",
       "      <td>Tottenham</td>\n",
       "      <td>67.0</td>\n",
       "      <td>39.0</td>\n",
       "      <td>34.0</td>\n",
       "      <td>33.0</td>\n",
       "      <td>16.0</td>\n",
       "      <td>23.0</td>\n",
       "      <td>1.140940</td>\n",
       "      <td>1.386555</td>\n",
       "      <td>0.672269</td>\n",
       "      <td>0.771812</td>\n",
       "    </tr>\n",
       "    <tr>\n",
       "      <td>Crystal Palace</td>\n",
       "      <td>51.0</td>\n",
       "      <td>53.0</td>\n",
       "      <td>19.0</td>\n",
       "      <td>32.0</td>\n",
       "      <td>23.0</td>\n",
       "      <td>30.0</td>\n",
       "      <td>0.637584</td>\n",
       "      <td>1.344538</td>\n",
       "      <td>0.966387</td>\n",
       "      <td>1.006711</td>\n",
       "    </tr>\n",
       "    <tr>\n",
       "      <td>Everton</td>\n",
       "      <td>54.0</td>\n",
       "      <td>46.0</td>\n",
       "      <td>30.0</td>\n",
       "      <td>24.0</td>\n",
       "      <td>21.0</td>\n",
       "      <td>25.0</td>\n",
       "      <td>1.006711</td>\n",
       "      <td>1.008403</td>\n",
       "      <td>0.882353</td>\n",
       "      <td>0.838926</td>\n",
       "    </tr>\n",
       "    <tr>\n",
       "      <td>Watford</td>\n",
       "      <td>52.0</td>\n",
       "      <td>59.0</td>\n",
       "      <td>26.0</td>\n",
       "      <td>26.0</td>\n",
       "      <td>28.0</td>\n",
       "      <td>31.0</td>\n",
       "      <td>0.872483</td>\n",
       "      <td>1.092437</td>\n",
       "      <td>1.176471</td>\n",
       "      <td>1.040268</td>\n",
       "    </tr>\n",
       "    <tr>\n",
       "      <td>Newcastle</td>\n",
       "      <td>42.0</td>\n",
       "      <td>48.0</td>\n",
       "      <td>24.0</td>\n",
       "      <td>18.0</td>\n",
       "      <td>25.0</td>\n",
       "      <td>23.0</td>\n",
       "      <td>0.805369</td>\n",
       "      <td>0.756303</td>\n",
       "      <td>1.050420</td>\n",
       "      <td>0.771812</td>\n",
       "    </tr>\n",
       "    <tr>\n",
       "      <td>Wolves</td>\n",
       "      <td>47.0</td>\n",
       "      <td>46.0</td>\n",
       "      <td>28.0</td>\n",
       "      <td>19.0</td>\n",
       "      <td>21.0</td>\n",
       "      <td>25.0</td>\n",
       "      <td>0.939597</td>\n",
       "      <td>0.798319</td>\n",
       "      <td>0.882353</td>\n",
       "      <td>0.838926</td>\n",
       "    </tr>\n",
       "    <tr>\n",
       "      <td>Arsenal</td>\n",
       "      <td>73.0</td>\n",
       "      <td>51.0</td>\n",
       "      <td>42.0</td>\n",
       "      <td>31.0</td>\n",
       "      <td>16.0</td>\n",
       "      <td>35.0</td>\n",
       "      <td>1.409396</td>\n",
       "      <td>1.302521</td>\n",
       "      <td>0.672269</td>\n",
       "      <td>1.174497</td>\n",
       "    </tr>\n",
       "    <tr>\n",
       "      <td>Burnley</td>\n",
       "      <td>45.0</td>\n",
       "      <td>68.0</td>\n",
       "      <td>24.0</td>\n",
       "      <td>21.0</td>\n",
       "      <td>32.0</td>\n",
       "      <td>36.0</td>\n",
       "      <td>0.805369</td>\n",
       "      <td>0.882353</td>\n",
       "      <td>1.344538</td>\n",
       "      <td>1.208054</td>\n",
       "    </tr>\n",
       "    <tr>\n",
       "      <td>Man United</td>\n",
       "      <td>65.0</td>\n",
       "      <td>54.0</td>\n",
       "      <td>33.0</td>\n",
       "      <td>32.0</td>\n",
       "      <td>25.0</td>\n",
       "      <td>29.0</td>\n",
       "      <td>1.107383</td>\n",
       "      <td>1.344538</td>\n",
       "      <td>1.050420</td>\n",
       "      <td>0.973154</td>\n",
       "    </tr>\n",
       "    <tr>\n",
       "      <td>Man City</td>\n",
       "      <td>95.0</td>\n",
       "      <td>23.0</td>\n",
       "      <td>57.0</td>\n",
       "      <td>38.0</td>\n",
       "      <td>12.0</td>\n",
       "      <td>11.0</td>\n",
       "      <td>1.912752</td>\n",
       "      <td>1.596639</td>\n",
       "      <td>0.504202</td>\n",
       "      <td>0.369128</td>\n",
       "    </tr>\n",
       "    <tr>\n",
       "      <td>Cardiff</td>\n",
       "      <td>34.0</td>\n",
       "      <td>69.0</td>\n",
       "      <td>21.0</td>\n",
       "      <td>13.0</td>\n",
       "      <td>38.0</td>\n",
       "      <td>31.0</td>\n",
       "      <td>0.704698</td>\n",
       "      <td>0.546218</td>\n",
       "      <td>1.596639</td>\n",
       "      <td>1.040268</td>\n",
       "    </tr>\n",
       "    <tr>\n",
       "      <td>Chelsea</td>\n",
       "      <td>63.0</td>\n",
       "      <td>39.0</td>\n",
       "      <td>39.0</td>\n",
       "      <td>24.0</td>\n",
       "      <td>12.0</td>\n",
       "      <td>27.0</td>\n",
       "      <td>1.308725</td>\n",
       "      <td>1.008403</td>\n",
       "      <td>0.504202</td>\n",
       "      <td>0.906040</td>\n",
       "    </tr>\n",
       "    <tr>\n",
       "      <td>Southampton</td>\n",
       "      <td>45.0</td>\n",
       "      <td>65.0</td>\n",
       "      <td>27.0</td>\n",
       "      <td>18.0</td>\n",
       "      <td>30.0</td>\n",
       "      <td>35.0</td>\n",
       "      <td>0.906040</td>\n",
       "      <td>0.756303</td>\n",
       "      <td>1.260504</td>\n",
       "      <td>1.174497</td>\n",
       "    </tr>\n",
       "    <tr>\n",
       "      <td>Fulham</td>\n",
       "      <td>34.0</td>\n",
       "      <td>81.0</td>\n",
       "      <td>22.0</td>\n",
       "      <td>12.0</td>\n",
       "      <td>36.0</td>\n",
       "      <td>45.0</td>\n",
       "      <td>0.738255</td>\n",
       "      <td>0.504202</td>\n",
       "      <td>1.512605</td>\n",
       "      <td>1.510067</td>\n",
       "    </tr>\n",
       "    <tr>\n",
       "      <td>Brighton</td>\n",
       "      <td>35.0</td>\n",
       "      <td>60.0</td>\n",
       "      <td>19.0</td>\n",
       "      <td>16.0</td>\n",
       "      <td>28.0</td>\n",
       "      <td>32.0</td>\n",
       "      <td>0.637584</td>\n",
       "      <td>0.672269</td>\n",
       "      <td>1.176471</td>\n",
       "      <td>1.073826</td>\n",
       "    </tr>\n",
       "    <tr>\n",
       "      <td>Leicester</td>\n",
       "      <td>51.0</td>\n",
       "      <td>48.0</td>\n",
       "      <td>24.0</td>\n",
       "      <td>27.0</td>\n",
       "      <td>20.0</td>\n",
       "      <td>28.0</td>\n",
       "      <td>0.805369</td>\n",
       "      <td>1.134454</td>\n",
       "      <td>0.840336</td>\n",
       "      <td>0.939597</td>\n",
       "    </tr>\n",
       "    <tr>\n",
       "      <td>West Ham</td>\n",
       "      <td>52.0</td>\n",
       "      <td>55.0</td>\n",
       "      <td>32.0</td>\n",
       "      <td>20.0</td>\n",
       "      <td>27.0</td>\n",
       "      <td>28.0</td>\n",
       "      <td>1.073826</td>\n",
       "      <td>0.840336</td>\n",
       "      <td>1.134454</td>\n",
       "      <td>0.939597</td>\n",
       "    </tr>\n",
       "  </tbody>\n",
       "</table>\n",
       "</div>"
      ],
      "text/plain": [
       "                TotIn  TotOut  InHome  InAway  OutHome  OutAway  WMeanInHome  \\\n",
       "Liverpool        89.0    22.0    55.0    34.0     10.0     12.0     1.845638   \n",
       "Bournemouth      56.0    70.0    30.0    26.0     25.0     45.0     1.006711   \n",
       "Huddersfield     22.0    76.0    10.0    12.0     31.0     45.0     0.335570   \n",
       "Tottenham        67.0    39.0    34.0    33.0     16.0     23.0     1.140940   \n",
       "Crystal Palace   51.0    53.0    19.0    32.0     23.0     30.0     0.637584   \n",
       "Everton          54.0    46.0    30.0    24.0     21.0     25.0     1.006711   \n",
       "Watford          52.0    59.0    26.0    26.0     28.0     31.0     0.872483   \n",
       "Newcastle        42.0    48.0    24.0    18.0     25.0     23.0     0.805369   \n",
       "Wolves           47.0    46.0    28.0    19.0     21.0     25.0     0.939597   \n",
       "Arsenal          73.0    51.0    42.0    31.0     16.0     35.0     1.409396   \n",
       "Burnley          45.0    68.0    24.0    21.0     32.0     36.0     0.805369   \n",
       "Man United       65.0    54.0    33.0    32.0     25.0     29.0     1.107383   \n",
       "Man City         95.0    23.0    57.0    38.0     12.0     11.0     1.912752   \n",
       "Cardiff          34.0    69.0    21.0    13.0     38.0     31.0     0.704698   \n",
       "Chelsea          63.0    39.0    39.0    24.0     12.0     27.0     1.308725   \n",
       "Southampton      45.0    65.0    27.0    18.0     30.0     35.0     0.906040   \n",
       "Fulham           34.0    81.0    22.0    12.0     36.0     45.0     0.738255   \n",
       "Brighton         35.0    60.0    19.0    16.0     28.0     32.0     0.637584   \n",
       "Leicester        51.0    48.0    24.0    27.0     20.0     28.0     0.805369   \n",
       "West Ham         52.0    55.0    32.0    20.0     27.0     28.0     1.073826   \n",
       "\n",
       "                WMeanInAway  WMeanOutHome  WMeanOutAway  \n",
       "Liverpool          1.428571      0.420168      0.402685  \n",
       "Bournemouth        1.092437      1.050420      1.510067  \n",
       "Huddersfield       0.504202      1.302521      1.510067  \n",
       "Tottenham          1.386555      0.672269      0.771812  \n",
       "Crystal Palace     1.344538      0.966387      1.006711  \n",
       "Everton            1.008403      0.882353      0.838926  \n",
       "Watford            1.092437      1.176471      1.040268  \n",
       "Newcastle          0.756303      1.050420      0.771812  \n",
       "Wolves             0.798319      0.882353      0.838926  \n",
       "Arsenal            1.302521      0.672269      1.174497  \n",
       "Burnley            0.882353      1.344538      1.208054  \n",
       "Man United         1.344538      1.050420      0.973154  \n",
       "Man City           1.596639      0.504202      0.369128  \n",
       "Cardiff            0.546218      1.596639      1.040268  \n",
       "Chelsea            1.008403      0.504202      0.906040  \n",
       "Southampton        0.756303      1.260504      1.174497  \n",
       "Fulham             0.504202      1.512605      1.510067  \n",
       "Brighton           0.672269      1.176471      1.073826  \n",
       "Leicester          1.134454      0.840336      0.939597  \n",
       "West Ham           0.840336      1.134454      0.939597  "
      ]
     },
     "execution_count": 64,
     "metadata": {},
     "output_type": "execute_result"
    }
   ],
   "source": [
    "def Stats_Per_Team(stats):\n",
    "    teams = set(stats['HomeTeam'])\n",
    "    goals_per_team = {}\n",
    "    for team in teams:\n",
    "        goals = np.array([0, 0, 0, 0, 0, 0, 0, 0, 0, 0], dtype='f8')#забили всего, пропустили всего, забили дома, забили на выезде, пропустили дома, пропустили на выезде\n",
    "        for i in range(380):\n",
    "            if stats.loc[i][2] == team:\n",
    "                goals[0] += stats.loc[i][4]\n",
    "                goals[1] += stats.loc[i][5]\n",
    "                goals[2] += stats.loc[i][4]\n",
    "                goals[4] += stats.loc[i][5]\n",
    "            if stats.loc[i][3] == team:\n",
    "                goals[0] += stats.loc[i][5]\n",
    "                goals[1] += stats.loc[i][4]\n",
    "                goals[3] += stats.loc[i][5]\n",
    "                goals[5] += stats.loc[i][4]\n",
    "        goals_per_team[team] = goals\n",
    "    new_stats = pd.DataFrame(goals_per_team.values(), \n",
    "                         index=goals_per_team.keys(), columns=['TotIn', 'TotOut', 'InHome', 'InAway', \n",
    "                                                               'OutHome', 'OutAway', 'WMeanInHome', 'WMeanInAway', \n",
    "                                                               'WMeanOutHome', 'WMeanOutAway'])\n",
    "    mean_in_home = np.sum(new_stats['InHome'])/380\n",
    "    mean_in_away = np.sum(new_stats['InAway'])/380\n",
    "    for i in range(20):\n",
    "        new_stats.iloc[i]['WMeanInHome'] = new_stats.iloc[i]['InHome']/19/mean_in_home\n",
    "        new_stats.iloc[i]['WMeanInAway'] = new_stats.iloc[i]['InAway']/19/mean_in_away\n",
    "        new_stats.iloc[i]['WMeanOutHome'] = new_stats.iloc[i]['OutHome']/19/mean_in_away\n",
    "        new_stats.iloc[i]['WMeanOutAway'] = new_stats.iloc[i]['OutAway']/19/mean_in_home\n",
    "    return new_stats\n",
    "\n",
    "new_stats = Stats_Per_Team(stats)\n",
    "mean_in_home = np.sum(new_stats['InHome'])/380\n",
    "mean_in_away = np.sum(new_stats['InAway'])/380\n",
    "new_stats"
   ]
  },
  {
   "cell_type": "code",
   "execution_count": 65,
   "metadata": {},
   "outputs": [],
   "source": [
    "def match(team_1, team_2):\n",
    "    k = 8\n",
    "    lam_1 = PoissonDistribution(new_stats.loc[team_1]['WMeanInHome']*new_stats.loc[team_2]['WMeanOutAway']*mean_in_home, np.linspace(0,k,k+1))\n",
    "    lam_2 = PoissonDistribution(new_stats.loc[team_2]['WMeanInAway']*new_stats.loc[team_1]['WMeanOutHome']*mean_in_away, np.linspace(0,k,k+1))\n",
    "    d1 = {}\n",
    "    d2 = {}\n",
    "    for i in range(k):\n",
    "        d1[i] = lam_1[i]\n",
    "        d2[i] = lam_2[i]\n",
    "    df = pd.DataFrame({team_1:d1, team_2:d2})\n",
    "    return df"
   ]
  },
  {
   "cell_type": "code",
   "execution_count": 66,
   "metadata": {},
   "outputs": [
    {
     "data": {
      "text/html": [
       "<div>\n",
       "<style scoped>\n",
       "    .dataframe tbody tr th:only-of-type {\n",
       "        vertical-align: middle;\n",
       "    }\n",
       "\n",
       "    .dataframe tbody tr th {\n",
       "        vertical-align: top;\n",
       "    }\n",
       "\n",
       "    .dataframe thead th {\n",
       "        text-align: right;\n",
       "    }\n",
       "</style>\n",
       "<table border=\"1\" class=\"dataframe\">\n",
       "  <thead>\n",
       "    <tr style=\"text-align: right;\">\n",
       "      <th></th>\n",
       "      <th>Watford</th>\n",
       "      <th>West Ham</th>\n",
       "    </tr>\n",
       "  </thead>\n",
       "  <tbody>\n",
       "    <tr>\n",
       "      <td>0</td>\n",
       "      <td>0.276439</td>\n",
       "      <td>0.289850</td>\n",
       "    </tr>\n",
       "    <tr>\n",
       "      <td>1</td>\n",
       "      <td>0.355436</td>\n",
       "      <td>0.358948</td>\n",
       "    </tr>\n",
       "    <tr>\n",
       "      <td>2</td>\n",
       "      <td>0.228503</td>\n",
       "      <td>0.222259</td>\n",
       "    </tr>\n",
       "    <tr>\n",
       "      <td>3</td>\n",
       "      <td>0.097934</td>\n",
       "      <td>0.091748</td>\n",
       "    </tr>\n",
       "    <tr>\n",
       "      <td>4</td>\n",
       "      <td>0.031480</td>\n",
       "      <td>0.028405</td>\n",
       "    </tr>\n",
       "    <tr>\n",
       "      <td>5</td>\n",
       "      <td>0.008095</td>\n",
       "      <td>0.007035</td>\n",
       "    </tr>\n",
       "    <tr>\n",
       "      <td>6</td>\n",
       "      <td>0.001735</td>\n",
       "      <td>0.001452</td>\n",
       "    </tr>\n",
       "    <tr>\n",
       "      <td>7</td>\n",
       "      <td>0.000319</td>\n",
       "      <td>0.000257</td>\n",
       "    </tr>\n",
       "  </tbody>\n",
       "</table>\n",
       "</div>"
      ],
      "text/plain": [
       "    Watford  West Ham\n",
       "0  0.276439  0.289850\n",
       "1  0.355436  0.358948\n",
       "2  0.228503  0.222259\n",
       "3  0.097934  0.091748\n",
       "4  0.031480  0.028405\n",
       "5  0.008095  0.007035\n",
       "6  0.001735  0.001452\n",
       "7  0.000319  0.000257"
      ]
     },
     "execution_count": 66,
     "metadata": {},
     "output_type": "execute_result"
    }
   ],
   "source": [
    "final_score = match(Home_Team, Away_Team)\n",
    "final_score"
   ]
  },
  {
   "cell_type": "code",
   "execution_count": 67,
   "metadata": {},
   "outputs": [],
   "source": [
    "def u_score(prob_score):\n",
    "    k = 8\n",
    "    team_1 = prob_score.columns[0]\n",
    "    team_2 = prob_score.columns[1]\n",
    "    tab_score = np.zeros((k,k))\n",
    "    for i in range(k):\n",
    "        for j in range(k):\n",
    "            tab_score[i][j] = final_score.loc[i][team_1]*final_score.loc[j][team_2]\n",
    "            tab_score[i][j] = np.around(tab_score[i][j], decimals=10)\n",
    "    print(team_1,'x',team_2)\n",
    "    df = pd.DataFrame(tab_score, index=list(range(k)), columns=list(range(k)))\n",
    "    return df"
   ]
  },
  {
   "cell_type": "code",
   "execution_count": 68,
   "metadata": {},
   "outputs": [
    {
     "name": "stdout",
     "output_type": "stream",
     "text": [
      "Watford x West Ham\n"
     ]
    },
    {
     "data": {
      "text/html": [
       "<div>\n",
       "<style scoped>\n",
       "    .dataframe tbody tr th:only-of-type {\n",
       "        vertical-align: middle;\n",
       "    }\n",
       "\n",
       "    .dataframe tbody tr th {\n",
       "        vertical-align: top;\n",
       "    }\n",
       "\n",
       "    .dataframe thead th {\n",
       "        text-align: right;\n",
       "    }\n",
       "</style>\n",
       "<table border=\"1\" class=\"dataframe\">\n",
       "  <thead>\n",
       "    <tr style=\"text-align: right;\">\n",
       "      <th></th>\n",
       "      <th>0</th>\n",
       "      <th>1</th>\n",
       "      <th>2</th>\n",
       "      <th>3</th>\n",
       "      <th>4</th>\n",
       "      <th>5</th>\n",
       "      <th>6</th>\n",
       "      <th>7</th>\n",
       "    </tr>\n",
       "  </thead>\n",
       "  <tbody>\n",
       "    <tr>\n",
       "      <td>0</td>\n",
       "      <td>0.080126</td>\n",
       "      <td>0.099227</td>\n",
       "      <td>0.061441</td>\n",
       "      <td>0.025363</td>\n",
       "      <td>0.007852</td>\n",
       "      <td>0.001945</td>\n",
       "      <td>4.014078e-04</td>\n",
       "      <td>7.101420e-05</td>\n",
       "    </tr>\n",
       "    <tr>\n",
       "      <td>1</td>\n",
       "      <td>0.103023</td>\n",
       "      <td>0.127583</td>\n",
       "      <td>0.078999</td>\n",
       "      <td>0.032610</td>\n",
       "      <td>0.010096</td>\n",
       "      <td>0.002501</td>\n",
       "      <td>5.161160e-04</td>\n",
       "      <td>9.130760e-05</td>\n",
       "    </tr>\n",
       "    <tr>\n",
       "      <td>2</td>\n",
       "      <td>0.066232</td>\n",
       "      <td>0.082021</td>\n",
       "      <td>0.050787</td>\n",
       "      <td>0.020965</td>\n",
       "      <td>0.006491</td>\n",
       "      <td>0.001608</td>\n",
       "      <td>3.318019e-04</td>\n",
       "      <td>5.870000e-05</td>\n",
       "    </tr>\n",
       "    <tr>\n",
       "      <td>3</td>\n",
       "      <td>0.028386</td>\n",
       "      <td>0.035153</td>\n",
       "      <td>0.021767</td>\n",
       "      <td>0.008985</td>\n",
       "      <td>0.002782</td>\n",
       "      <td>0.000689</td>\n",
       "      <td>1.422064e-04</td>\n",
       "      <td>2.515810e-05</td>\n",
       "    </tr>\n",
       "    <tr>\n",
       "      <td>4</td>\n",
       "      <td>0.009124</td>\n",
       "      <td>0.011300</td>\n",
       "      <td>0.006997</td>\n",
       "      <td>0.002888</td>\n",
       "      <td>0.000894</td>\n",
       "      <td>0.000221</td>\n",
       "      <td>4.571100e-05</td>\n",
       "      <td>8.086900e-06</td>\n",
       "    </tr>\n",
       "    <tr>\n",
       "      <td>5</td>\n",
       "      <td>0.002346</td>\n",
       "      <td>0.002906</td>\n",
       "      <td>0.001799</td>\n",
       "      <td>0.000743</td>\n",
       "      <td>0.000230</td>\n",
       "      <td>0.000057</td>\n",
       "      <td>1.175470e-05</td>\n",
       "      <td>2.079600e-06</td>\n",
       "    </tr>\n",
       "    <tr>\n",
       "      <td>6</td>\n",
       "      <td>0.000503</td>\n",
       "      <td>0.000623</td>\n",
       "      <td>0.000386</td>\n",
       "      <td>0.000159</td>\n",
       "      <td>0.000049</td>\n",
       "      <td>0.000012</td>\n",
       "      <td>2.519000e-06</td>\n",
       "      <td>4.456000e-07</td>\n",
       "    </tr>\n",
       "    <tr>\n",
       "      <td>7</td>\n",
       "      <td>0.000092</td>\n",
       "      <td>0.000114</td>\n",
       "      <td>0.000071</td>\n",
       "      <td>0.000029</td>\n",
       "      <td>0.000009</td>\n",
       "      <td>0.000002</td>\n",
       "      <td>4.627000e-07</td>\n",
       "      <td>8.190000e-08</td>\n",
       "    </tr>\n",
       "  </tbody>\n",
       "</table>\n",
       "</div>"
      ],
      "text/plain": [
       "          0         1         2         3         4         5             6  \\\n",
       "0  0.080126  0.099227  0.061441  0.025363  0.007852  0.001945  4.014078e-04   \n",
       "1  0.103023  0.127583  0.078999  0.032610  0.010096  0.002501  5.161160e-04   \n",
       "2  0.066232  0.082021  0.050787  0.020965  0.006491  0.001608  3.318019e-04   \n",
       "3  0.028386  0.035153  0.021767  0.008985  0.002782  0.000689  1.422064e-04   \n",
       "4  0.009124  0.011300  0.006997  0.002888  0.000894  0.000221  4.571100e-05   \n",
       "5  0.002346  0.002906  0.001799  0.000743  0.000230  0.000057  1.175470e-05   \n",
       "6  0.000503  0.000623  0.000386  0.000159  0.000049  0.000012  2.519000e-06   \n",
       "7  0.000092  0.000114  0.000071  0.000029  0.000009  0.000002  4.627000e-07   \n",
       "\n",
       "              7  \n",
       "0  7.101420e-05  \n",
       "1  9.130760e-05  \n",
       "2  5.870000e-05  \n",
       "3  2.515810e-05  \n",
       "4  8.086900e-06  \n",
       "5  2.079600e-06  \n",
       "6  4.456000e-07  \n",
       "7  8.190000e-08  "
      ]
     },
     "execution_count": 68,
     "metadata": {},
     "output_type": "execute_result"
    }
   ],
   "source": [
    "tab = u_score(final_score)\n",
    "tab"
   ]
  },
  {
   "cell_type": "code",
   "execution_count": 69,
   "metadata": {},
   "outputs": [],
   "source": [
    "draw = 1/sum(np.diag(tab))\n",
    "S = 0\n",
    "for i in range(8):\n",
    "    for j in range(8):\n",
    "        if j>i:\n",
    "            S+=tab[i][j]\n",
    "team2_win = 1/S\n",
    "team1_win = 1/(1-S-sum(np.diag(tab)))"
   ]
  },
  {
   "cell_type": "code",
   "execution_count": 70,
   "metadata": {},
   "outputs": [
    {
     "data": {
      "text/html": [
       "<div>\n",
       "<style scoped>\n",
       "    .dataframe tbody tr th:only-of-type {\n",
       "        vertical-align: middle;\n",
       "    }\n",
       "\n",
       "    .dataframe tbody tr th {\n",
       "        vertical-align: top;\n",
       "    }\n",
       "\n",
       "    .dataframe thead th {\n",
       "        text-align: right;\n",
       "    }\n",
       "</style>\n",
       "<table border=\"1\" class=\"dataframe\">\n",
       "  <thead>\n",
       "    <tr style=\"text-align: right;\">\n",
       "      <th></th>\n",
       "      <th>Watford</th>\n",
       "      <th>Draw</th>\n",
       "      <th>West Ham</th>\n",
       "    </tr>\n",
       "  </thead>\n",
       "  <tbody>\n",
       "    <tr>\n",
       "      <td>PredictBets</td>\n",
       "      <td>2.820077</td>\n",
       "      <td>3.725301</td>\n",
       "      <td>2.652766</td>\n",
       "    </tr>\n",
       "    <tr>\n",
       "      <td>RealBets</td>\n",
       "      <td>2.250000</td>\n",
       "      <td>3.750000</td>\n",
       "      <td>3.200000</td>\n",
       "    </tr>\n",
       "  </tbody>\n",
       "</table>\n",
       "</div>"
      ],
      "text/plain": [
       "              Watford      Draw  West Ham\n",
       "PredictBets  2.820077  3.725301  2.652766\n",
       "RealBets     2.250000  3.750000  3.200000"
      ]
     },
     "execution_count": 70,
     "metadata": {},
     "output_type": "execute_result"
    }
   ],
   "source": [
    "bets = np.array([[team1_win, draw, team2_win]])\n",
    "r_bets = np.array([real_bets])\n",
    "fin_bets = np.concatenate((bets, r_bets), axis=0)\n",
    "final_bets = pd.DataFrame(fin_bets, columns=[Home_Team, 'Draw', Away_Team], index=['PredictBets', 'RealBets'])\n",
    "final_bets"
   ]
  },
  {
   "cell_type": "markdown",
   "metadata": {},
   "source": [
    "# Распределение Эрланга\n",
    "## Выборочные среднее и дисперсия"
   ]
  },
  {
   "cell_type": "code",
   "execution_count": null,
   "metadata": {},
   "outputs": [],
   "source": [
    "def random_erlang(k, theta, size=1):\n",
    "    '''\n",
    "    This fuction genegates <size> points of Erlang distribution.\n",
    "    k&theta - are parametrs of Erlang distribution.\n",
    "    Return value: array with generated points.\n",
    "    '''\n",
    "    Erlang_Points = np.zeros(size)\n",
    "    Exp_Points = np.zeros(k)\n",
    "    for i in range(size):\n",
    "        for j in range(k):\n",
    "            eps = np.random.uniform()\n",
    "            Exp_Points[j] = -1/theta*np.log(eps)\n",
    "        S = np.sum(Exp_Points)\n",
    "        Erlang_Points[i] = S\n",
    "    Exp_Points = np.sort(Exp_Points)\n",
    "    return Erlang_Points"
   ]
  },
  {
   "cell_type": "code",
   "execution_count": null,
   "metadata": {},
   "outputs": [],
   "source": [
    "erlang_data_5 = random_erlang(2, 0.2, 5)\n",
    "erlang_data_10 = random_erlang(2, 0.2, 10)"
   ]
  },
  {
   "cell_type": "code",
   "execution_count": null,
   "metadata": {},
   "outputs": [],
   "source": [
    "print('Выборочное среднее для выборки {} = {}'.format(erlang_data_5, sample_mean(erlang_data_5)))\n",
    "print('Выборочное среднее для выборки {} = {}'.format(erlang_data_10, sample_mean(erlang_data_10)))\n",
    "print('Выборочная дисперсия для выборки {} = {}'.format(erlang_data_5, sample_variance(erlang_data_5, sample_mean(erlang_data_5))))\n",
    "print('Выборочная дисперсия для выборки {} = {}'.format(erlang_data_10, sample_variance(erlang_data_10, sample_mean(erlang_data_10))))"
   ]
  },
  {
   "cell_type": "code",
   "execution_count": null,
   "metadata": {},
   "outputs": [],
   "source": [
    "print('Выборочное среднее для выборки {} = {}'.format(erlang_data_5, np.mean(erlang_data_5)))\n",
    "print('Выборочное среднее для выборки {} = {}'.format(erlang_data_10, np.mean(erlang_data_10)))\n",
    "print('Выборочная дисперсия для выборки {} = {}'.format(erlang_data_5, np.var(erlang_data_5)))\n",
    "print('Выборочная дисперсия для выборки {} = {}'.format(erlang_data_10, np.var(erlang_data_10)))"
   ]
  },
  {
   "cell_type": "code",
   "execution_count": null,
   "metadata": {},
   "outputs": [],
   "source": []
  },
  {
   "cell_type": "code",
   "execution_count": null,
   "metadata": {},
   "outputs": [],
   "source": []
  },
  {
   "cell_type": "code",
   "execution_count": null,
   "metadata": {},
   "outputs": [],
   "source": []
  },
  {
   "cell_type": "code",
   "execution_count": null,
   "metadata": {},
   "outputs": [],
   "source": []
  },
  {
   "cell_type": "code",
   "execution_count": null,
   "metadata": {},
   "outputs": [],
   "source": []
  },
  {
   "cell_type": "code",
   "execution_count": null,
   "metadata": {},
   "outputs": [],
   "source": []
  },
  {
   "cell_type": "code",
   "execution_count": null,
   "metadata": {},
   "outputs": [],
   "source": []
  },
  {
   "cell_type": "code",
   "execution_count": null,
   "metadata": {},
   "outputs": [],
   "source": [
    "import pandas as pd\n",
    "rails = pd.read_csv('Football_Stats/trains.csv', sep=';')\n",
    "rails.head(30)"
   ]
  },
  {
   "cell_type": "code",
   "execution_count": null,
   "metadata": {},
   "outputs": [],
   "source": [
    "set(rails['nama_item_vertical_variabel'])"
   ]
  },
  {
   "cell_type": "code",
   "execution_count": null,
   "metadata": {},
   "outputs": [],
   "source": []
  },
  {
   "cell_type": "code",
   "execution_count": null,
   "metadata": {},
   "outputs": [],
   "source": []
  },
  {
   "cell_type": "code",
   "execution_count": null,
   "metadata": {},
   "outputs": [],
   "source": []
  }
 ],
 "metadata": {
  "kernelspec": {
   "display_name": "Python 3",
   "language": "python",
   "name": "python3"
  },
  "language_info": {
   "codemirror_mode": {
    "name": "ipython",
    "version": 3
   },
   "file_extension": ".py",
   "mimetype": "text/x-python",
   "name": "python",
   "nbconvert_exporter": "python",
   "pygments_lexer": "ipython3",
   "version": "3.7.2"
  }
 },
 "nbformat": 4,
 "nbformat_minor": 2
}
