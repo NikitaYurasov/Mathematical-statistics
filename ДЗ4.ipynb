{
 "cells": [
  {
   "cell_type": "code",
   "execution_count": 38,
   "metadata": {},
   "outputs": [],
   "source": [
    "import numpy as np\n",
    "import pandas as pd\n",
    "import matplotlib.pyplot as plt\n",
    "%matplotlib inline\n",
    "import scipy.stats as spst\n",
    "import scipy.special as spsp\n",
    "import stats as pst"
   ]
  },
  {
   "cell_type": "code",
   "execution_count": 26,
   "metadata": {},
   "outputs": [],
   "source": [
    "def comlicate_chi_squared_test_poisson(path, alpha):\n",
    "    fb_stats = pd.read_csv(path)\n",
    "    goals_sample = np.zeros(fb_stats.shape[0])\n",
    "    for i in range(fb_stats.shape[0]):\n",
    "        goals_sample[i] = fb_stats['FTHG'].iloc[i] + fb_stats['FTAG'].iloc[i]\n",
    "    N = len(set(goals_sample))\n",
    "    frec2goal = {}\n",
    "    for el in goals_sample:\n",
    "        if el not in frec2goal:\n",
    "            frec2goal[el] = 0\n",
    "        frec2goal[el] += 1\n",
    "    n = goals_sample.shape[0]\n",
    "    x_mean = np.mean(goals_sample)\n",
    "    p = np.zeros(N)\n",
    "    j=0\n",
    "    for i in list(set(goals_sample)):\n",
    "        p[j] = pst.PoissonDistribution(x_mean, [i])\n",
    "        j+=1\n",
    "    S = 0\n",
    "    for i in range(N):\n",
    "        S += (frec2goal[i]-n*p[i])**2/(n*p[i])\n",
    "    print(S <= sps.chi2.isf(alpha, N-1))"
   ]
  },
  {
   "cell_type": "code",
   "execution_count": 27,
   "metadata": {},
   "outputs": [
    {
     "name": "stdout",
     "output_type": "stream",
     "text": [
      "True\n"
     ]
    }
   ],
   "source": [
    "comlicate_chi_squared_test_poisson('goals1819.csv', 0.005)"
   ]
  },
  {
   "cell_type": "markdown",
   "metadata": {},
   "source": [
    "## Критерий согласия Колмогорова-Смирнова (с поправкой Большева)\n",
    "$ D_n = max(D_n^{+}, D_n^-) $\n",
    "\n",
    "$ D_n^+=\\max_{1\\leqslant k\\leqslant n}\\left( \\frac{k}{n}-F(X_{(k)}) \\right), \\quad D_n^-=\\max_{1\\leqslant k\\leqslant n}\\left( F(X_{(k)})-\\frac{k-1}{n} \\right) $\n",
    "\n",
    "$ S=\\frac{6nD_n+1}{6\\sqrt{n}} $ - поправка Большева"
   ]
  },
  {
   "cell_type": "code",
   "execution_count": 330,
   "metadata": {},
   "outputs": [],
   "source": [
    "def simple_kolmogorov_test(sample, alpha, mu, m):\n",
    "    sort_sample = np.sort(sample)\n",
    "    n = sort_sample.shape[0]\n",
    "    Dn_plus = 0\n",
    "    Dn_minus = 0\n",
    "    for k in range(sort_sample.shape[0]):\n",
    "        if (k/n-spsp.gdtr(mu, m, sort_sample[k]))>Dn_plus:\n",
    "            Dn_plus = k/n-spsp.gdtr(mu, m, sort_sample[k])\n",
    "        if (spsp.gdtr(mu, m, sort_sample[k])-(k-1)/n)>Dn_minus:\n",
    "            Dn_minus = (spsp.gdtr(mu, m, sort_sample[k])-(k-1)/n)\n",
    "    Dn = np.max((Dn_plus, Dn_minus))\n",
    "    S_Bolshev = (6*n*Dn+1)/(6*np.sqrt(n))\n",
    "    for al in alpha:\n",
    "        if S_Bolshev < spst.kstwobign.ppf(1-al):\n",
    "            decision = 'accepts'\n",
    "        else:\n",
    "            decision = 'rejects'\n",
    "        print('S_Bolshev = {} < {} and K-S test {} with alpha={}'.format(S_Bolshev, spst.kstwobign.ppf(1-al), decision, al))\n",
    "    X_e, Y_e = pst.emperical_erlang(sort_sample, 1)\n",
    "    plt.figure(figsize=(10, 7));\n",
    "    plt.step(X_e, Y_e, where='post', label='Sample');\n",
    "    plt.plot(X_e, spsp.gdtr(mu, m, X_e), label='Erlang CDF');\n",
    "    plt.grid();\n",
    "    plt.legend();\n",
    "    #plt.savefig('Images/K-S_Test_for_Erlang.pdf');\n",
    "    "
   ]
  },
  {
   "cell_type": "code",
   "execution_count": 339,
   "metadata": {},
   "outputs": [
    {
     "name": "stdout",
     "output_type": "stream",
     "text": [
      "S_Bolshev = 0.4490039574567851 < 1.2238478702170825 and K-S test accepts with alpha=0.1\n",
      "S_Bolshev = 0.4490039574567851 < 1.3580986393225505 and K-S test accepts with alpha=0.05\n"
     ]
    },
    {
     "data": {
      "image/png": "[encoded data removed]",
      "text/plain": [
       "<Figure size 720x504 with 1 Axes>"
      ]
     },
     "metadata": {
      "needs_background": "light"
     },
     "output_type": "display_data"
    }
   ],
   "source": [
    "mu = 0.2\n",
    "m = 2\n",
    "n = 1000\n",
    "alpha = [0.1, 0.05]\n",
    "X = pst.random_erlang(m, mu, n)\n",
    "simple_kolmogorov_test(X, alpha, mu, m)"
   ]
  },
  {
   "cell_type": "markdown",
   "metadata": {},
   "source": [
    "## Критерий согласия $ \\chi^2 $"
   ]
  },
  {
   "cell_type": "code",
   "execution_count": 432,
   "metadata": {},
   "outputs": [],
   "source": [
    "def simple_chi_square_test(sample, params, distribution, alpha):\n",
    "    '''\n",
    "    params - array-like with 1 or 2 parameters\n",
    "    distribution - function with pdf of distribution\n",
    "    '''\n",
    "    X_points = np.array(np.sort(list(set(sample))), dtype='float32')\n",
    "    N = len(X_points)\n",
    "    freq = {}\n",
    "    for point in sample:\n",
    "        if point not in freq:\n",
    "            freq[point] = 0\n",
    "        freq[point]+=1\n",
    "    n = np.sum(list(freq.values()))\n",
    "    p = np.zeros(N)\n",
    "    if distribution == 'poisson':\n",
    "        i = 0\n",
    "        for point in X_points:\n",
    "            p[i] = pst.PoissonDistribution(params[0], [point])\n",
    "            i += 1\n",
    "        S = 0\n",
    "        for i in range(N):\n",
    "            S += (freq[X_points[i]]-n*p[i])**2/(n*p[i])\n",
    "        for al in alpha:\n",
    "            if S <= spst.chi2.ppf(1-al, N-1): decision = 'accepts'\n",
    "            else: decision = 'rejects'\n",
    "            print('S = {} <= {} and Chi2 test {} with alpha={}'.format(S, spst.chi2.ppf(1-al, N-1), decision, al))\n",
    "        freq_sort = sorted(list(freq.items()), key=lambda x: x[0])\n",
    "        X_ = np.zeros(len(freq_sort))\n",
    "        Y_ = np.zeros_like(X_)\n",
    "        for i in range(len(freq_sort)):\n",
    "            X_[i] = freq_sort[i][0]\n",
    "            Y_[i] = freq_sort[i][1]\n",
    "        Y_ = Y_/n\n",
    "        plt.bar(X_, Y_, color='orange', label='Sample');\n",
    "        plt.scatter(X_, Y_, color='red');\n",
    "        plt.plot(X_, pst.PoissonDistribution(params[0], X_), label='Poisson PDF');\n",
    "        plt.grid();\n",
    "        plt.legend();\n",
    "        plt.savefig('Images/Simple_Chi2_Poisson.pdf');\n",
    "        \n",
    "        \n",
    "    if distribution == 'erlang':\n",
    "        i = 0\n",
    "        for point in X_points:\n",
    "            p[i] = pst.Erlang_density(params[0], params[1], [point])\n",
    "        S = 0\n",
    "        for i in range(N):\n",
    "            S += (freq[X_points[i]]-n*p[i])**2/(n*p[i])\n",
    "        for al in alpha:\n",
    "            if S <= spst.chi2.ppf(1-al, N-1): decision = 'accepts'\n",
    "            else: decision = 'rejects'\n",
    "            print('S = {} <= {} and Chi2 test {} with alpha={}'.format(S, spst.chi2.ppf(1-al, N-1), decision, al))"
   ]
  },
  {
   "cell_type": "code",
   "execution_count": 433,
   "metadata": {},
   "outputs": [
    {
     "name": "stdout",
     "output_type": "stream",
     "text": [
      "S = 6.021079938206301 <= 16.918977604620448 and Chi2 test accepts with alpha=0.05\n",
      "S = 6.021079938206301 <= 14.683656573259837 and Chi2 test accepts with alpha=0.1\n"
     ]
    },
    {
     "data": {
      "image/png": "[encoded data removed]",
      "text/plain": [
       "<Figure size 432x288 with 1 Axes>"
      ]
     },
     "metadata": {
      "needs_background": "light"
     },
     "output_type": "display_data"
    }
   ],
   "source": [
    "mu = 2\n",
    "n = 10000\n",
    "params = [mu]\n",
    "alpha_list = [0.05, 0.1]\n",
    "X_poisson = pst.random_poisson(mu, n)\n",
    "simple_chi_square_test(X_poisson, params, 'poisson', alpha_list)"
   ]
  },
  {
   "cell_type": "code",
   "execution_count": null,
   "metadata": {},
   "outputs": [],
   "source": []
  }
 ],
 "metadata": {
  "kernelspec": {
   "display_name": "Python 3",
   "language": "python",
   "name": "python3"
  },
  "language_info": {
   "codemirror_mode": {
    "name": "ipython",
    "version": 3
   },
   "file_extension": ".py",
   "mimetype": "text/x-python",
   "name": "python",
   "nbconvert_exporter": "python",
   "pygments_lexer": "ipython3",
   "version": "3.7.4"
  }
 },
 "nbformat": 4,
 "nbformat_minor": 4
}
