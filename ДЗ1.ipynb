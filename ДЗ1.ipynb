{
 "cells": [
  {
   "cell_type": "markdown",
   "metadata": {},
   "source": [
    "# Распределение Пуассона"
   ]
  },
  {
   "cell_type": "code",
   "execution_count": 1,
   "metadata": {},
   "outputs": [],
   "source": [
    "%matplotlib inline\n",
    "import matplotlib.pyplot as plt\n",
    "import numpy as np"
   ]
  },
  {
   "cell_type": "code",
   "execution_count": 2,
   "metadata": {},
   "outputs": [],
   "source": [
    "def PoissonDistribution(mu, x):\n",
    "    '''\n",
    "    mu - is a paramter > 0\n",
    "    x - array of real numbers (optional: np.array(..., dtype=float32))\n",
    "    '''\n",
    "\n",
    "    X = np.zeros_like(x)\n",
    "    for i in range(X.shape[0]):\n",
    "        X[i] = (mu**x[i])/np.math.factorial(int(x[i]))*np.exp(-mu)\n",
    "    return X"
   ]
  },
  {
   "cell_type": "code",
   "execution_count": 3,
   "metadata": {},
   "outputs": [
    {
     "data": {
      "image/png": "[encoded data removed]",
      "text/plain": [
       "<Figure size 432x288 with 1 Axes>"
      ]
     },
     "metadata": {
      "needs_background": "light"
     },
     "output_type": "display_data"
    }
   ],
   "source": [
    "x = np.linspace(0, 20, 21)\n",
    "plt.plot(x, PoissonDistribution(1, x), 'r', label='$\\mu=1$')\n",
    "plt.plot(x, PoissonDistribution(2, x), 'b', label='$\\mu=2$')\n",
    "plt.plot(x, PoissonDistribution(3, x), 'g', label='$\\mu=3$')\n",
    "plt.scatter(x, PoissonDistribution(1, x), marker='o', color='red')\n",
    "plt.scatter(x, PoissonDistribution(2, x), marker='o', color='blue')\n",
    "plt.scatter(x, PoissonDistribution(3, x), marker='o', color='green')\n",
    "plt.bar(x, PoissonDistribution(3, x), color='#dbdbdb')\n",
    "\n",
    "plt.xticks(np.arange(0,21,step=1))\n",
    "plt.yticks(np.arange(0,0.4, step=0.03))\n",
    "plt.xlabel('x')\n",
    "plt.ylabel('f(x)')\n",
    "plt.legend()\n",
    "plt.grid()\n",
    "plt.savefig('/Users/nikitayurasov/Desktop/3 Курс/Математическая статистика/ДЗ1/Images/Poisson_destr.pdf')"
   ]
  },
  {
   "cell_type": "markdown",
   "metadata": {},
   "source": [
    "# Моделирование Пуассоновской величины"
   ]
  },
  {
   "cell_type": "markdown",
   "metadata": {},
   "source": [
    "http://help.prognoz.com/ru/mergedProjects/Lib/05_statistics/distribution/lib_poissondistribution.htm\n",
    "http://www.statmod.ru/wiki/_media/books:vv:simulation_v4.pdf\n",
    "http://www.lib.uniyar.ac.ru/edocs/iuni/20150401.pdf"
   ]
  },
  {
   "cell_type": "code",
   "execution_count": 2,
   "metadata": {},
   "outputs": [
    {
     "ename": "NameError",
     "evalue": "name 'PoissonDistribution' is not defined",
     "output_type": "error",
     "traceback": [
      "\u001b[0;31m---------------------------------------------------------------------------\u001b[0m",
      "\u001b[0;31mNameError\u001b[0m                                 Traceback (most recent call last)",
      "\u001b[0;32m<ipython-input-2-c27e3881e8d0>\u001b[0m in \u001b[0;36m<module>\u001b[0;34m\u001b[0m\n\u001b[1;32m     45\u001b[0m \u001b[0mdata2\u001b[0m \u001b[0;34m=\u001b[0m \u001b[0mcreate_data\u001b[0m\u001b[0;34m(\u001b[0m\u001b[0;34m(\u001b[0m\u001b[0mtransform_numbers\u001b[0m\u001b[0;34m(\u001b[0m\u001b[0mnp\u001b[0m\u001b[0;34m.\u001b[0m\u001b[0mrandom\u001b[0m\u001b[0;34m.\u001b[0m\u001b[0mpoisson\u001b[0m\u001b[0;34m(\u001b[0m\u001b[0;36m2\u001b[0m\u001b[0;34m,\u001b[0m \u001b[0;36m1000000\u001b[0m\u001b[0;34m)\u001b[0m\u001b[0;34m)\u001b[0m\u001b[0;34m)\u001b[0m\u001b[0;34m)\u001b[0m\u001b[0;34m\u001b[0m\u001b[0;34m\u001b[0m\u001b[0m\n\u001b[1;32m     46\u001b[0m \u001b[0;34m\u001b[0m\u001b[0m\n\u001b[0;32m---> 47\u001b[0;31m \u001b[0mdata3\u001b[0m \u001b[0;34m=\u001b[0m \u001b[0mcreate_data\u001b[0m\u001b[0;34m(\u001b[0m\u001b[0;34m[\u001b[0m\u001b[0mnp\u001b[0m\u001b[0;34m.\u001b[0m\u001b[0mlinspace\u001b[0m\u001b[0;34m(\u001b[0m\u001b[0;36m0\u001b[0m\u001b[0;34m,\u001b[0m\u001b[0;36m10\u001b[0m\u001b[0;34m,\u001b[0m\u001b[0;36m11\u001b[0m\u001b[0;34m)\u001b[0m\u001b[0;34m,\u001b[0m \u001b[0mPoissonDistribution\u001b[0m\u001b[0;34m(\u001b[0m\u001b[0;36m2\u001b[0m\u001b[0;34m,\u001b[0m \u001b[0mnp\u001b[0m\u001b[0;34m.\u001b[0m\u001b[0mlinspace\u001b[0m\u001b[0;34m(\u001b[0m\u001b[0;36m0\u001b[0m\u001b[0;34m,\u001b[0m\u001b[0;36m10\u001b[0m\u001b[0;34m,\u001b[0m\u001b[0;36m11\u001b[0m\u001b[0;34m)\u001b[0m\u001b[0;34m)\u001b[0m\u001b[0;34m]\u001b[0m\u001b[0;34m)\u001b[0m\u001b[0;34m\u001b[0m\u001b[0;34m\u001b[0m\u001b[0m\n\u001b[0m\u001b[1;32m     48\u001b[0m \u001b[0;34m\u001b[0m\u001b[0m\n\u001b[1;32m     49\u001b[0m \u001b[0mplt\u001b[0m\u001b[0;34m.\u001b[0m\u001b[0mplot\u001b[0m\u001b[0;34m(\u001b[0m\u001b[0mdata\u001b[0m\u001b[0;34m.\u001b[0m\u001b[0mindex\u001b[0m\u001b[0;34m,\u001b[0m \u001b[0mdata\u001b[0m\u001b[0;34m.\u001b[0m\u001b[0mvalues\u001b[0m\u001b[0;34m,\u001b[0m \u001b[0mlabel\u001b[0m\u001b[0;34m=\u001b[0m\u001b[0;34m'Self model'\u001b[0m\u001b[0;34m)\u001b[0m\u001b[0;34m;\u001b[0m\u001b[0;34m\u001b[0m\u001b[0;34m\u001b[0m\u001b[0m\n",
      "\u001b[0;31mNameError\u001b[0m: name 'PoissonDistribution' is not defined"
     ]
    }
   ],
   "source": [
    "import pandas as pd\n",
    "\n",
    "def random_poisson(mu, size=1):\n",
    "    poisson_array = np.zeros(size, dtype='int8')\n",
    "    for k in range(size):\n",
    "        a = np.exp(-mu)\n",
    "        b = 1\n",
    "        i = 0\n",
    "        u = np.random.uniform(0. , 1.)\n",
    "        b = b*u\n",
    "        while b>=a:\n",
    "            u = np.random.uniform(0., 1.)\n",
    "            b = b*u\n",
    "            i+=1\n",
    "        poisson_array[k] = i\n",
    "        \n",
    "    return poisson_array\n",
    "\n",
    "\n",
    "def transform_numbers(num_arr):\n",
    "    d = {}\n",
    "    size = len(num_arr)\n",
    "    for num in num_arr:\n",
    "        if num not in d:\n",
    "            d[num] = 0\n",
    "        d[num] += 1\n",
    "    for num, count in d.items():\n",
    "        d[num] = count/size\n",
    "    X = np.zeros(len(d), dtype='int8')\n",
    "    Y = np.zeros(len(d), dtype='f8')\n",
    "    j = 0\n",
    "    for num, p in d.items():\n",
    "        X[j] = num\n",
    "        Y[j] = p\n",
    "        j += 1\n",
    "    return (X, Y)\n",
    "\n",
    "\n",
    "def create_data(arrays):\n",
    "    return pd.DataFrame(pd.Series(arrays[1], index=arrays[0]), columns=['''p(x)''']).sort_index()\n",
    "\n",
    "\n",
    "data = create_data((transform_numbers(random_poisson(2, 1000000))))\n",
    "\n",
    "data2 = create_data((transform_numbers(np.random.poisson(2, 1000000))))\n",
    "\n",
    "data3 = create_data([np.linspace(0,10,11), PoissonDistribution(2, np.linspace(0,10,11))])\n",
    "\n",
    "plt.plot(data.index, data.values, label='Self model');\n",
    "plt.plot(data2.index, data2.values, label='NumPy Random');\n",
    "plt.plot(data3.index, data3.values, label='Distibution')\n",
    "plt.xticks(np.arange(0, 11, step=1))\n",
    "plt.yticks(np.arange(0, 0.3, step=0.02))\n",
    "plt.grid();\n",
    "plt.legend();\n",
    "#plt.savefig('/Users/nikitayurasov/Desktop/3 Курс/Математическая статистика/ДЗ1/Images/Model_Poisson_1000000.pdf')"
   ]
  },
  {
   "cell_type": "markdown",
   "metadata": {},
   "source": [
    "## Оценка времени"
   ]
  },
  {
   "cell_type": "code",
   "execution_count": 5,
   "metadata": {},
   "outputs": [
    {
     "name": "stdout",
     "output_type": "stream",
     "text": [
      "56 ms ± 3.55 ms per loop (mean ± std. dev. of 7 runs, 10 loops each)\n"
     ]
    }
   ],
   "source": [
    "%%timeit\n",
    "data = create_data((transform_numbers(random_poisson(2, 10000))))"
   ]
  },
  {
   "cell_type": "code",
   "execution_count": 6,
   "metadata": {},
   "outputs": [
    {
     "name": "stdout",
     "output_type": "stream",
     "text": [
      "4.77 ms ± 48.6 µs per loop (mean ± std. dev. of 7 runs, 100 loops each)\n"
     ]
    }
   ],
   "source": [
    "%%timeit\n",
    "data2 = create_data((transform_numbers(np.random.poisson(2, 10000))))"
   ]
  },
  {
   "cell_type": "markdown",
   "metadata": {},
   "source": [
    "# Распределение Эрланга"
   ]
  },
  {
   "cell_type": "code",
   "execution_count": null,
   "metadata": {},
   "outputs": [],
   "source": [
    "import scipy.special as sps\n",
    "def Erlang_density(m, theta, x): # lambda является зарезервированным словом\n",
    "    X = np.array([])\n",
    "    for i in x:\n",
    "        X = np.append(X, np.array( (theta**m)/(sps.gamma(m)) *(i**(m-1))*np.exp(-theta*i)))\n",
    "    \n",
    "    return X"
   ]
  },
  {
   "cell_type": "code",
   "execution_count": 8,
   "metadata": {},
   "outputs": [
    {
     "data": {
      "image/png": "[encoded data removed]",
      "text/plain": [
       "<Figure size 432x288 with 1 Axes>"
      ]
     },
     "metadata": {
      "needs_background": "light"
     },
     "output_type": "display_data"
    }
   ],
   "source": [
    "x = np.linspace(0, 100, 50)\n",
    "\n",
    "plt.plot(x, Erlang_density(1,0.2,x), label='m={}, $\\lambda$={}'.format(1, 0.2))\n",
    "plt.plot(x, Erlang_density(2,0.2,x), label='m={}, $\\lambda$={}'.format(2, 0.2))\n",
    "plt.plot(x, Erlang_density(3,0.2,x), label='m={}, $\\lambda$={}'.format(3, 0.2))\n",
    "plt.plot(x, Erlang_density(5,0.2,x), label='m={}, $\\lambda$={}'.format(5, 0.2))\n",
    "plt.plot(x, Erlang_density(9,0.2,x), label='m={}, $\\lambda$={}'.format(9, 0.2))\n",
    "plt.scatter(x, Erlang_density(1,0.2,x),marker='o', s=1)\n",
    "plt.scatter(x, Erlang_density(2,0.2,x),marker='o', s=1)\n",
    "plt.scatter(x, Erlang_density(3,0.2,x),marker='o', s=1)\n",
    "plt.scatter(x, Erlang_density(5,0.2,x),marker='o', s=1)\n",
    "plt.scatter(x, Erlang_density(9,0.2,x),marker='o', s=1)\n",
    "\n",
    "plt.xticks(np.arange(0, 100, step=10))\n",
    "plt.yticks(np.arange(0, 0.22, step=0.02))\n",
    "plt.xlabel('x')\n",
    "plt.ylabel('f(x)')\n",
    "plt.grid()\n",
    "plt.legend();\n",
    "plt.savefig('/Users/nikitayurasov/Desktop/3 Курс/Математическая статистика/ДЗ1/Images/Erlang_density.pdf')"
   ]
  },
  {
   "cell_type": "markdown",
   "metadata": {},
   "source": [
    "## Моделирование случайно величины Эрланга\n",
    "\n",
    "$$\\xi_1+\\xi_2+\\cdots+\\xi_n \\sim \\Gamma(k, \\lambda)$$ где $$\\xi_k\\sim Exp(\\lambda)$$"
   ]
  },
  {
   "cell_type": "code",
   "execution_count": 3,
   "metadata": {},
   "outputs": [],
   "source": [
    "def random_erlang(k, theta, size=1):\n",
    "    Erlang_Points = np.zeros(size)\n",
    "    Exp_Points = np.zeros(k)\n",
    "    for i in range(size):\n",
    "        for j in range(k):\n",
    "            eps = np.random.uniform()\n",
    "            Exp_Points[j] = -1/theta*np.log(eps)\n",
    "        S = np.sum(Exp_Points)\n",
    "        Erlang_Points[i] = S\n",
    "    Exp_Points = np.sort(Exp_Points)\n",
    "    return Erlang_Points"
   ]
  },
  {
   "cell_type": "code",
   "execution_count": 1,
   "metadata": {},
   "outputs": [],
   "source": [
    "def transform_cont_data(erlang_array, split_point):\n",
    "    max_el = int(np.max(erlang_array)+1)\n",
    "    steps = np.array([(i,i+1) for i in np.arange(0, max_el, split_point)])\n",
    "    size = erlang_array.shape[0]\n",
    "    X = np.arange(1, max_el+1, split_point)\n",
    "    Y = np.zeros_like(X, dtype='f8')\n",
    "    j=0\n",
    "    for i in steps:\n",
    "        x1 = erlang_array[erlang_array<i[1]]\n",
    "        x2 = erlang_array[erlang_array>i[0]]\n",
    "        x = np.intersect1d(x1, x2, assume_unique=True)\n",
    "        Y[j] = x.shape[0]/size\n",
    "        j+=1\n",
    "    return pd.DataFrame(pd.Series(Y, index=X), columns=['''p(x)'''])"
   ]
  },
  {
   "cell_type": "code",
   "execution_count": 2,
   "metadata": {
    "scrolled": false
   },
   "outputs": [
    {
     "ename": "NameError",
     "evalue": "name 'random_erlang' is not defined",
     "output_type": "error",
     "traceback": [
      "\u001b[0;31m---------------------------------------------------------------------------\u001b[0m",
      "\u001b[0;31mNameError\u001b[0m                                 Traceback (most recent call last)",
      "\u001b[0;32m<ipython-input-2-292d6f1c548e>\u001b[0m in \u001b[0;36m<module>\u001b[0;34m\u001b[0m\n\u001b[0;32m----> 1\u001b[0;31m \u001b[0mself_data\u001b[0m \u001b[0;34m=\u001b[0m \u001b[0mtransform_cont_data\u001b[0m\u001b[0;34m(\u001b[0m\u001b[0mrandom_erlang\u001b[0m\u001b[0;34m(\u001b[0m\u001b[0;36m5\u001b[0m\u001b[0;34m,\u001b[0m\u001b[0;36m0.2\u001b[0m\u001b[0;34m,\u001b[0m\u001b[0;36m1000000\u001b[0m\u001b[0;34m)\u001b[0m\u001b[0;34m,\u001b[0m \u001b[0;36m0.1\u001b[0m\u001b[0;34m)\u001b[0m\u001b[0;34m\u001b[0m\u001b[0;34m\u001b[0m\u001b[0m\n\u001b[0m\u001b[1;32m      2\u001b[0m \u001b[0mx\u001b[0m \u001b[0;34m=\u001b[0m \u001b[0mnp\u001b[0m\u001b[0;34m.\u001b[0m\u001b[0mlinspace\u001b[0m\u001b[0;34m(\u001b[0m\u001b[0;36m0\u001b[0m\u001b[0;34m,\u001b[0m \u001b[0;36m100\u001b[0m\u001b[0;34m,\u001b[0m \u001b[0;36m50\u001b[0m\u001b[0;34m)\u001b[0m\u001b[0;34m\u001b[0m\u001b[0;34m\u001b[0m\u001b[0m\n\u001b[1;32m      3\u001b[0m \u001b[0;34m\u001b[0m\u001b[0m\n\u001b[1;32m      4\u001b[0m \u001b[0mplt\u001b[0m\u001b[0;34m.\u001b[0m\u001b[0mplot\u001b[0m\u001b[0;34m(\u001b[0m\u001b[0mself_data\u001b[0m\u001b[0;34m.\u001b[0m\u001b[0mindex\u001b[0m\u001b[0;34m,\u001b[0m \u001b[0mself_data\u001b[0m\u001b[0;34m.\u001b[0m\u001b[0mvalues\u001b[0m\u001b[0;34m,\u001b[0m \u001b[0mlabel\u001b[0m\u001b[0;34m=\u001b[0m\u001b[0;34m'Self Random'\u001b[0m\u001b[0;34m)\u001b[0m\u001b[0;34m\u001b[0m\u001b[0;34m\u001b[0m\u001b[0m\n\u001b[1;32m      5\u001b[0m \u001b[0mplt\u001b[0m\u001b[0;34m.\u001b[0m\u001b[0mplot\u001b[0m\u001b[0;34m(\u001b[0m\u001b[0mx\u001b[0m\u001b[0;34m,\u001b[0m \u001b[0mErlang_density\u001b[0m\u001b[0;34m(\u001b[0m\u001b[0;36m5\u001b[0m\u001b[0;34m,\u001b[0m\u001b[0;36m0.2\u001b[0m\u001b[0;34m,\u001b[0m\u001b[0mx\u001b[0m\u001b[0;34m)\u001b[0m\u001b[0;34m,\u001b[0m \u001b[0mlabel\u001b[0m\u001b[0;34m=\u001b[0m\u001b[0;34m'Erlang Density'\u001b[0m\u001b[0;34m)\u001b[0m\u001b[0;34m\u001b[0m\u001b[0;34m\u001b[0m\u001b[0m\n",
      "\u001b[0;31mNameError\u001b[0m: name 'random_erlang' is not defined"
     ]
    }
   ],
   "source": [
    "self_data = transform_cont_data(random_erlang(5,0.2,1000000), 0.1)\n",
    "x = np.linspace(0, 100, 50)\n",
    "\n",
    "plt.plot(self_data.index, self_data.values, label='Self Random')\n",
    "plt.plot(x, Erlang_density(5,0.2,x), label='Erlang Density')\n",
    "plt.title('$m=5, \\lambda=0.2$')\n",
    "plt.grid();\n",
    "plt.legend();\n",
    "#plt.savefig('/Users/nikitayurasov/Desktop/3 Курс/Математическая статистика/ДЗ1/Images/Model_Erlang_1000000.pdf')"
   ]
  },
  {
   "cell_type": "markdown",
   "metadata": {},
   "source": [
    "## Оценка времени"
   ]
  },
  {
   "cell_type": "code",
   "execution_count": 12,
   "metadata": {},
   "outputs": [
    {
     "name": "stdout",
     "output_type": "stream",
     "text": [
      "1.65 s ± 149 ms per loop (mean ± std. dev. of 7 runs, 1 loop each)\n"
     ]
    }
   ],
   "source": [
    "%%timeit\n",
    "random_erlang(5,0.2,100000)"
   ]
  },
  {
   "cell_type": "code",
   "execution_count": 13,
   "metadata": {},
   "outputs": [
    {
     "name": "stdout",
     "output_type": "stream",
     "text": [
      "5.12 ms ± 17.5 µs per loop (mean ± std. dev. of 7 runs, 100 loops each)\n"
     ]
    }
   ],
   "source": [
    "%%timeit\n",
    "np.random.gamma(5,0.2,100000)"
   ]
  },
  {
   "cell_type": "code",
   "execution_count": null,
   "metadata": {},
   "outputs": [],
   "source": [
    "%%timeit\n",
    "transform_cont_data(random_erlang(5,0.2,1000000), 0.1)"
   ]
  },
  {
   "cell_type": "code",
   "execution_count": null,
   "metadata": {},
   "outputs": [],
   "source": []
  }
 ],
 "metadata": {
  "kernelspec": {
   "display_name": "Python 3",
   "language": "python",
   "name": "python3"
  },
  "language_info": {
   "codemirror_mode": {
    "name": "ipython",
    "version": 3
   },
   "file_extension": ".py",
   "mimetype": "text/x-python",
   "name": "python",
   "nbconvert_exporter": "python",
   "pygments_lexer": "ipython3",
   "version": "3.7.3"
  }
 },
 "nbformat": 4,
 "nbformat_minor": 2
}
